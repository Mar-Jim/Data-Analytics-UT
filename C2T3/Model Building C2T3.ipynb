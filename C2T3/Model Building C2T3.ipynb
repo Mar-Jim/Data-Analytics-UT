{
 "cells": [
  {
   "cell_type": "markdown",
   "id": "b9fde536",
   "metadata": {},
   "source": [
    "This notebook contains model building, both regression and classification models including cross validation algorithms. In summary, regression models failed to accurately represent the data and a classification approach was used. Random Forest classifer proved essential for this purpose and achieved a 96% accuracy for predicting the default status of a customer. This was achieved by building 200 trees in the Random Forest algorithm and discarting limit balance data and ID. this prediction is bettter than i would expect and therefore i have to consider the possibility of a bias in the data. Given that 70% of the data is from customers who did not default, it could be that my model is biased. On a different notebook, i attempt to predict the limit balance of a customer based on their default status. "
   ]
  },
  {
   "cell_type": "code",
   "execution_count": 69,
   "id": "373bd861",
   "metadata": {},
   "outputs": [],
   "source": [
    "#imports \n",
    "import numpy as np\n",
    "import pandas as pd\n",
    "import seaborn as sns\n",
    "import scipy \n",
    "from math import sqrt\n",
    "import matplotlib.pyplot as plt\n",
    "\n",
    "#estimators\n",
    "from sklearn.ensemble import RandomForestRegressor\n",
    "from sklearn.linear_model import LinearRegression\n",
    "from sklearn.svm import SVR\n",
    "from sklearn.ensemble import RandomForestClassifier\n",
    "\n",
    "#model metrics\n",
    "from sklearn.metrics import mean_squared_error\n",
    "from sklearn.metrics import r2_score\n",
    "from sklearn.model_selection import cross_val_score\n",
    "from sklearn import metrics\n",
    "from sklearn.metrics import accuracy_score, classification_report\n",
    "from sklearn.metrics import confusion_matrix,plot_confusion_matrix\n",
    "\n",
    "#cross validation\n",
    "from sklearn.model_selection import train_test_split"
   ]
  },
  {
   "cell_type": "code",
   "execution_count": 78,
   "id": "aa0c3020",
   "metadata": {},
   "outputs": [
    {
     "data": {
      "text/html": [
       "<div>\n",
       "<style scoped>\n",
       "    .dataframe tbody tr th:only-of-type {\n",
       "        vertical-align: middle;\n",
       "    }\n",
       "\n",
       "    .dataframe tbody tr th {\n",
       "        vertical-align: top;\n",
       "    }\n",
       "\n",
       "    .dataframe thead th {\n",
       "        text-align: right;\n",
       "    }\n",
       "</style>\n",
       "<table border=\"1\" class=\"dataframe\">\n",
       "  <thead>\n",
       "    <tr style=\"text-align: right;\">\n",
       "      <th></th>\n",
       "      <th>LIMIT_BAL</th>\n",
       "      <th>SEX</th>\n",
       "      <th>EDUCATION</th>\n",
       "      <th>MARRIAGE</th>\n",
       "      <th>AGE</th>\n",
       "      <th>PAY_0</th>\n",
       "      <th>PAY_2</th>\n",
       "      <th>PAY_3</th>\n",
       "      <th>PAY_4</th>\n",
       "      <th>PAY_5</th>\n",
       "      <th>PAY_6</th>\n",
       "      <th>BILL_AMT1</th>\n",
       "      <th>BILL_AMT2</th>\n",
       "      <th>BILL_AMT3</th>\n",
       "      <th>BILL_AMT4</th>\n",
       "      <th>BILL_AMT5</th>\n",
       "      <th>BILL_AMT6</th>\n",
       "      <th>PAY_AMT1</th>\n",
       "      <th>PAY_AMT2</th>\n",
       "      <th>PAY_AMT3</th>\n",
       "      <th>PAY_AMT4</th>\n",
       "      <th>PAY_AMT5</th>\n",
       "      <th>PAY_AMT6</th>\n",
       "      <th>default payment next month</th>\n",
       "    </tr>\n",
       "  </thead>\n",
       "  <tbody>\n",
       "    <tr>\n",
       "      <th>0</th>\n",
       "      <td>20000</td>\n",
       "      <td>0</td>\n",
       "      <td>3</td>\n",
       "      <td>1</td>\n",
       "      <td>24</td>\n",
       "      <td>2</td>\n",
       "      <td>2</td>\n",
       "      <td>-1</td>\n",
       "      <td>-1</td>\n",
       "      <td>-2</td>\n",
       "      <td>-2</td>\n",
       "      <td>3913</td>\n",
       "      <td>3102</td>\n",
       "      <td>689</td>\n",
       "      <td>0</td>\n",
       "      <td>0</td>\n",
       "      <td>0</td>\n",
       "      <td>0</td>\n",
       "      <td>689</td>\n",
       "      <td>0</td>\n",
       "      <td>0</td>\n",
       "      <td>0</td>\n",
       "      <td>0</td>\n",
       "      <td>0</td>\n",
       "    </tr>\n",
       "    <tr>\n",
       "      <th>1</th>\n",
       "      <td>120000</td>\n",
       "      <td>0</td>\n",
       "      <td>3</td>\n",
       "      <td>2</td>\n",
       "      <td>26</td>\n",
       "      <td>-1</td>\n",
       "      <td>2</td>\n",
       "      <td>0</td>\n",
       "      <td>0</td>\n",
       "      <td>0</td>\n",
       "      <td>2</td>\n",
       "      <td>2682</td>\n",
       "      <td>1725</td>\n",
       "      <td>2682</td>\n",
       "      <td>3272</td>\n",
       "      <td>3455</td>\n",
       "      <td>3261</td>\n",
       "      <td>0</td>\n",
       "      <td>1000</td>\n",
       "      <td>1000</td>\n",
       "      <td>1000</td>\n",
       "      <td>0</td>\n",
       "      <td>2000</td>\n",
       "      <td>0</td>\n",
       "    </tr>\n",
       "    <tr>\n",
       "      <th>2</th>\n",
       "      <td>90000</td>\n",
       "      <td>0</td>\n",
       "      <td>3</td>\n",
       "      <td>2</td>\n",
       "      <td>34</td>\n",
       "      <td>0</td>\n",
       "      <td>0</td>\n",
       "      <td>0</td>\n",
       "      <td>0</td>\n",
       "      <td>0</td>\n",
       "      <td>0</td>\n",
       "      <td>29239</td>\n",
       "      <td>14027</td>\n",
       "      <td>13559</td>\n",
       "      <td>14331</td>\n",
       "      <td>14948</td>\n",
       "      <td>15549</td>\n",
       "      <td>1518</td>\n",
       "      <td>1500</td>\n",
       "      <td>1000</td>\n",
       "      <td>1000</td>\n",
       "      <td>1000</td>\n",
       "      <td>5000</td>\n",
       "      <td>1</td>\n",
       "    </tr>\n",
       "    <tr>\n",
       "      <th>3</th>\n",
       "      <td>50000</td>\n",
       "      <td>0</td>\n",
       "      <td>3</td>\n",
       "      <td>1</td>\n",
       "      <td>37</td>\n",
       "      <td>0</td>\n",
       "      <td>0</td>\n",
       "      <td>0</td>\n",
       "      <td>0</td>\n",
       "      <td>0</td>\n",
       "      <td>0</td>\n",
       "      <td>46990</td>\n",
       "      <td>48233</td>\n",
       "      <td>49291</td>\n",
       "      <td>28314</td>\n",
       "      <td>28959</td>\n",
       "      <td>29547</td>\n",
       "      <td>2000</td>\n",
       "      <td>2019</td>\n",
       "      <td>1200</td>\n",
       "      <td>1100</td>\n",
       "      <td>1069</td>\n",
       "      <td>1000</td>\n",
       "      <td>1</td>\n",
       "    </tr>\n",
       "    <tr>\n",
       "      <th>4</th>\n",
       "      <td>50000</td>\n",
       "      <td>1</td>\n",
       "      <td>3</td>\n",
       "      <td>1</td>\n",
       "      <td>57</td>\n",
       "      <td>-1</td>\n",
       "      <td>0</td>\n",
       "      <td>-1</td>\n",
       "      <td>0</td>\n",
       "      <td>0</td>\n",
       "      <td>0</td>\n",
       "      <td>8617</td>\n",
       "      <td>5670</td>\n",
       "      <td>35835</td>\n",
       "      <td>20940</td>\n",
       "      <td>19146</td>\n",
       "      <td>19131</td>\n",
       "      <td>2000</td>\n",
       "      <td>36681</td>\n",
       "      <td>10000</td>\n",
       "      <td>9000</td>\n",
       "      <td>689</td>\n",
       "      <td>679</td>\n",
       "      <td>1</td>\n",
       "    </tr>\n",
       "  </tbody>\n",
       "</table>\n",
       "</div>"
      ],
      "text/plain": [
       "   LIMIT_BAL  SEX  EDUCATION  MARRIAGE  AGE  PAY_0  PAY_2  PAY_3  PAY_4  \\\n",
       "0      20000    0          3         1   24      2      2     -1     -1   \n",
       "1     120000    0          3         2   26     -1      2      0      0   \n",
       "2      90000    0          3         2   34      0      0      0      0   \n",
       "3      50000    0          3         1   37      0      0      0      0   \n",
       "4      50000    1          3         1   57     -1      0     -1      0   \n",
       "\n",
       "   PAY_5  PAY_6  BILL_AMT1  BILL_AMT2  BILL_AMT3  BILL_AMT4  BILL_AMT5  \\\n",
       "0     -2     -2       3913       3102        689          0          0   \n",
       "1      0      2       2682       1725       2682       3272       3455   \n",
       "2      0      0      29239      14027      13559      14331      14948   \n",
       "3      0      0      46990      48233      49291      28314      28959   \n",
       "4      0      0       8617       5670      35835      20940      19146   \n",
       "\n",
       "   BILL_AMT6  PAY_AMT1  PAY_AMT2  PAY_AMT3  PAY_AMT4  PAY_AMT5  PAY_AMT6  \\\n",
       "0          0         0       689         0         0         0         0   \n",
       "1       3261         0      1000      1000      1000         0      2000   \n",
       "2      15549      1518      1500      1000      1000      1000      5000   \n",
       "3      29547      2000      2019      1200      1100      1069      1000   \n",
       "4      19131      2000     36681     10000      9000       689       679   \n",
       "\n",
       "   default payment next month  \n",
       "0                           0  \n",
       "1                           0  \n",
       "2                           1  \n",
       "3                           1  \n",
       "4                           1  "
      ]
     },
     "execution_count": 78,
     "metadata": {},
     "output_type": "execute_result"
    }
   ],
   "source": [
    "df = pd.read_csv('credit.csv',header=0)\n",
    "drops = pd.read_csv('drops.csv',header=0)\n",
    "df = df.drop_duplicates()\n",
    "pd.set_option('max_columns', None)\n",
    "\n",
    "df.head()"
   ]
  },
  {
   "cell_type": "markdown",
   "id": "1073dd5f",
   "metadata": {},
   "source": [
    "# Predicting Default Status"
   ]
  },
  {
   "cell_type": "markdown",
   "id": "f45c8ae5",
   "metadata": {},
   "source": [
    "## Building the Models"
   ]
  },
  {
   "cell_type": "code",
   "execution_count": 71,
   "id": "de6b3c03",
   "metadata": {},
   "outputs": [],
   "source": [
    "y1 = df['default payment next month']\n",
    "X1= df[df.columns.difference(['default payment next month','LIMIT_BAL'])]\n",
    "\n",
    "y2 = drops['default payment next month']\n",
    "X2= drops[drops.columns.difference(['default payment next month','LIMIT_BAL'])]\n",
    "\n",
    "X1_train, X1_test, y1_train, y1_test = train_test_split(X1, y1, test_size=0.20, random_state=123)\n",
    "X2_train, X2_test, y2_train, y2_test = train_test_split(X2, y2, test_size=0.20, random_state=123)\n",
    "\n",
    "rfr = RandomForestRegressor(n_estimators=200, n_jobs=2, random_state=0)\n",
    "lr = LinearRegression(fit_intercept=True, n_jobs=2)\n",
    "svr = SVR()\n",
    "rfc = RandomForestClassifier(n_estimators=200, n_jobs=2, random_state=0)\n",
    "\n",
    "df_rfr_model = rfr.fit(X1_train, y1_train.values.ravel())\n",
    "df_lr_model = lr.fit(X1_train, y1_train.values.ravel())\n",
    "df_svr_model = svr.fit(X1_train, y1_train.values.ravel())\n",
    "df_rfc_model = rfc.fit(X1_train, y1_train.values.ravel())\n",
    "\n",
    "drops_rfr_model = rfr.fit(X2_train, y2_train.values.ravel())\n",
    "drops_lr_model = lr.fit(X2_train, y2_train.values.ravel())\n",
    "drops_svr_model = svr.fit(X2_train, y2_train.values.ravel())\n",
    "drops_rfc_model = rfc.fit(X2_train, y2_train.values.ravel())"
   ]
  },
  {
   "cell_type": "markdown",
   "id": "e134387b",
   "metadata": {},
   "source": [
    "## Regressor Model Accuracy/Results"
   ]
  },
  {
   "cell_type": "code",
   "execution_count": 72,
   "id": "7489fa5c",
   "metadata": {},
   "outputs": [],
   "source": [
    "algosClassdf = []\n",
    "algosClassdrops = []\n",
    "\n",
    "algosClassdf.append(('Random Forest Regressor - Raw Data:     ',df_rfr_model))\n",
    "algosClassdf.append(('Linear Regression - Raw Data:           ',df_lr_model))\n",
    "algosClassdf.append(('Support Vector Regression - Raw Data:   ',df_svr_model))\n",
    "\n",
    "algosClassdrops.append(('Random Forest Regressor - Drops Data:   ',drops_rfr_model))\n",
    "algosClassdrops.append(('Linear Regression - Drops Data:         ',drops_lr_model))\n",
    "algosClassdrops.append(('Support Vector Regression - Drops Data: ',drops_svr_model))\n",
    "\n",
    "#regression\n",
    "results = []\n",
    "names = []\n",
    "for name, model in algosClassdf:\n",
    "    result = cross_val_score(model, X1,y1, cv=3, scoring='r2')\n",
    "    names.append(name)\n",
    "    results.append(result)\n",
    "for name, model in algosClassdrops:\n",
    "    result = cross_val_score(model, X2,y2, cv=3, scoring='r2')\n",
    "    names.append(name)\n",
    "    results.append(result)"
   ]
  },
  {
   "cell_type": "code",
   "execution_count": 73,
   "id": "116909dd",
   "metadata": {},
   "outputs": [
    {
     "name": "stdout",
     "output_type": "stream",
     "text": [
      "\n",
      "\n",
      "Random Forest Regressor - Raw Data:      0.1730732181649783\n",
      "Linear Regression - Raw Data:            0.11970940094154496\n",
      "Support Vector Regression - Raw Data:    -0.08550921841986898\n",
      "Random Forest Regressor - Drops Data:    0.1698071629739033\n",
      "Linear Regression - Drops Data:          0.12097041796686096\n",
      "Support Vector Regression - Drops Data:  -0.08920983139482701\n"
     ]
    }
   ],
   "source": [
    "print('\\n')\n",
    "for i in range(len(names)):\n",
    "    print(names[i], results[i].mean())"
   ]
  },
  {
   "cell_type": "markdown",
   "id": "c9e0de35",
   "metadata": {},
   "source": [
    "These results show how accuratly a linear regressor model fits the data. The Raw data refers to the clean data, while Drops data excludes the labels with $500,000 credit balance. The values correspond to the cross validation score mean of 3 folds. The higher the average the better the estimators performance.\n",
    "It is clear to see that a linear model does not fit the data, meaning regression is not the way to tackle this problem, a classifier model is needed. "
   ]
  },
  {
   "cell_type": "markdown",
   "id": "0de47348",
   "metadata": {},
   "source": [
    "## Classification Model Accuracy/Results"
   ]
  },
  {
   "cell_type": "code",
   "execution_count": 74,
   "id": "b5f10fb0",
   "metadata": {},
   "outputs": [],
   "source": [
    "df_pred = df_rfc_model.predict(X1_test)\n",
    "drops_pred = drops_rfc_model.predict(X2_test)\n",
    "\n",
    "ClassifierClass = []\n",
    "\n",
    "ClassifierClass.append(('Random Forest Classifier - Raw Data - Accuracy:       ', y1_test, df_pred))\n",
    "ClassifierClass.append(('Random Forest Classifier - Drops Data - Accuracy:     ', y2_test, drops_pred))\n",
    "\n",
    "results = []\n",
    "names = []\n",
    "\n",
    "for name, y_test, prediction in ClassifierClass:\n",
    "    result = metrics.accuracy_score(y_test, prediction)\n",
    "    names.append(name)\n",
    "    results.append(result)"
   ]
  },
  {
   "cell_type": "code",
   "execution_count": 75,
   "id": "b2846049",
   "metadata": {},
   "outputs": [
    {
     "data": {
      "image/png": "[encoded data removed]",
      "text/plain": [
       "<Figure size 1296x504 with 4 Axes>"
      ]
     },
     "metadata": {
      "needs_background": "light"
     },
     "output_type": "display_data"
    }
   ],
   "source": [
    "cm1 =confusion_matrix(y1_test, df_pred)\n",
    "cm2 =confusion_matrix(y2_test, drops_pred)\n",
    "\n",
    "df_cm1 = pd.DataFrame(cm1, range(2), range(2))\n",
    "df_cm2 = pd.DataFrame(cm2, range(2), range(2))\n",
    "\n",
    "#Figure\n",
    "fig = plt.figure(figsize = (18,7))\n",
    "ax1 = fig.add_subplot(1, 2, 1)\n",
    "ax2 = fig.add_subplot(1, 2, 2)\n",
    "\n",
    "Amount = ['Default', 'Not Default']\n",
    "\n",
    "sns.heatmap(df_cm1, ax=ax1, xticklabels=Amount, yticklabels=Amount, annot=True,fmt=\"d\", annot_kws={\"size\": 18},cmap=\"Blues\",linewidths=.5,cbar_kws={'label': 'Instances'})\n",
    "sns.heatmap(df_cm2, ax=ax2, xticklabels=Amount, yticklabels=Amount, annot=True,fmt=\"d\", annot_kws={\"size\": 18},cmap=\"Reds\",linewidths=.5,cbar_kws={'label': 'Instances'})\n",
    "\n",
    "ax1.set_xlabel('Predicted',fontsize=20)\n",
    "ax1.set_ylabel('Actual',fontsize=20)\n",
    "ax2.set_xlabel('Predicted',fontsize=20)\n",
    "ax2.set_ylabel('Actual',fontsize=20)\n",
    "plt.suptitle('Random Forest Classifier Modeling',fontsize=25)\n",
    "\n",
    "ax1.set(xlabel='Prediction', ylabel='Actual')\n",
    "ax1.set_title('Raw Data', y=1, fontsize=19)\n",
    "ax2.set(xlabel='Prediction', ylabel='Actual')\n",
    "ax2.set_title('Drops Data', y=1, fontsize=19)\n",
    "\n",
    "plt.show()"
   ]
  },
  {
   "cell_type": "code",
   "execution_count": 76,
   "id": "d5e03cd5",
   "metadata": {},
   "outputs": [
    {
     "name": "stdout",
     "output_type": "stream",
     "text": [
      "Random Forest Classifier - Raw Data - Accuracy:        0.9596195561488403\n",
      "Random Forest Classifier - Drops Data - Accuracy:      0.809369122926996\n",
      "\n",
      " Feature Importance - Raw Data: \n",
      " PAY_0        0.106014\n",
      "AGE          0.079852\n",
      "BILL_AMT1    0.064810\n",
      "PAY_AMT1     0.056297\n",
      "BILL_AMT2    0.056136\n",
      "BILL_AMT3    0.053524\n",
      "PAY_AMT2     0.052877\n",
      "BILL_AMT6    0.051941\n",
      "BILL_AMT4    0.051933\n",
      "BILL_AMT5    0.051231\n",
      "PAY_AMT6     0.051074\n",
      "PAY_AMT3     0.049531\n",
      "PAY_AMT5     0.047380\n",
      "PAY_AMT4     0.047358\n",
      "PAY_2        0.038742\n",
      "PAY_3        0.030767\n",
      "PAY_4        0.022488\n",
      "PAY_5        0.021747\n",
      "EDUCATION    0.019998\n",
      "PAY_6        0.018781\n",
      "MARRIAGE     0.014389\n",
      "SEX          0.013130\n",
      "dtype: float64\n"
     ]
    }
   ],
   "source": [
    "for i in range(len(names)):\n",
    "    print(names[i], results[i].mean())\n",
    "\n",
    "feature_list = list(X1.columns)\n",
    "feature_imp = pd.Series(df_rfc_model.feature_importances_, index=feature_list).sort_values(ascending=False)\n",
    "print('\\n','Feature Importance - Raw Data:','\\n', feature_imp)"
   ]
  },
  {
   "cell_type": "markdown",
   "id": "587ff217",
   "metadata": {},
   "source": [
    "Using the Random Forest Classifier there is no doubt that it is the model needed for this project. I can predict with 95% accuracy whether a customer will default or not. Furthermore, I tried experimenting using a second set of data (Drops) which ignores the values of $500,000 credit limit since it looks like an anomoaly in the data, an artificial limit set by the company which I thought would not help the model at all. However, there is a 15% difference between the accuracy of the raw data and the drops data, making the raw data much more accurate. Because of this, i will not exclude any data from the model."
   ]
  },
  {
   "cell_type": "code",
   "execution_count": 77,
   "id": "9b924dfa",
   "metadata": {},
   "outputs": [
    {
     "name": "stdout",
     "output_type": "stream",
     "text": [
      "(29965, 24) (29244, 24)\n",
      "This is ~1000 labels difference between the Raw data and Drops data\n"
     ]
    }
   ],
   "source": [
    "print(df.shape, drops.shape)\n",
    "print('This is ~1000 labels difference between the Raw data and Drops data')"
   ]
  },
  {
   "cell_type": "markdown",
   "id": "1db8ada9",
   "metadata": {},
   "source": [
    "However, i do have to note that there are considerably more entries of customers not defaulting rather than defaulting, enough to make me question whether my model is being biased towards not defaulting results. "
   ]
  },
  {
   "cell_type": "code",
   "execution_count": null,
   "id": "2ee89b16",
   "metadata": {},
   "outputs": [],
   "source": []
  }
 ],
 "metadata": {
  "kernelspec": {
   "display_name": "Python 3",
   "language": "python",
   "name": "python3"
  },
  "language_info": {
   "codemirror_mode": {
    "name": "ipython",
    "version": 3
   },
   "file_extension": ".py",
   "mimetype": "text/x-python",
   "name": "python",
   "nbconvert_exporter": "python",
   "pygments_lexer": "ipython3",
   "version": "3.8.3"
  }
 },
 "nbformat": 4,
 "nbformat_minor": 5
}
